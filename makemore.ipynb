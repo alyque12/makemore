{
 "cells": [
  {
   "cell_type": "code",
   "execution_count": 2,
   "id": "505b29f3-4890-4acc-8e35-07f2974d2233",
   "metadata": {},
   "outputs": [],
   "source": [
    "names = open(\"names.txt\", \"r\").read().splitlines()"
   ]
  },
  {
   "cell_type": "code",
   "execution_count": 18,
   "id": "46657266-22df-450f-8c68-270d1805d8d2",
   "metadata": {},
   "outputs": [
    {
     "name": "stdout",
     "output_type": "stream",
     "text": [
      "<S> e\n",
      "e m\n",
      "m m\n",
      "m a\n",
      "a <E>\n",
      "<S> o\n",
      "o l\n",
      "l i\n",
      "i v\n",
      "v i\n",
      "i a\n",
      "a <E>\n",
      "<S> a\n",
      "a v\n",
      "v a\n",
      "a <E>\n"
     ]
    }
   ],
   "source": [
    "bigram_dict = {}\n",
    "for name in names[:3]:\n",
    "    letters = [\"<S>\"] + list(name) + [\"<E>\"]\n",
    "    for ch1, ch2 in zip(letters, letters[1:]):\n",
    "        bigram = (ch1, ch2)\n",
    "        bigram_dict[bigram] = bigram_dict.get(bigram, 0) + 1\n",
    "        print(ch1, ch2)"
   ]
  },
  {
   "cell_type": "code",
   "execution_count": 19,
   "id": "54d55b47-c160-4480-a525-982ea0604cd6",
   "metadata": {},
   "outputs": [
    {
     "data": {
      "text/plain": [
       "{('<S>', 'e'): 1,\n",
       " ('e', 'm'): 1,\n",
       " ('m', 'm'): 1,\n",
       " ('m', 'a'): 1,\n",
       " ('a', '<E>'): 3,\n",
       " ('<S>', 'o'): 1,\n",
       " ('o', 'l'): 1,\n",
       " ('l', 'i'): 1,\n",
       " ('i', 'v'): 1,\n",
       " ('v', 'i'): 1,\n",
       " ('i', 'a'): 1,\n",
       " ('<S>', 'a'): 1,\n",
       " ('a', 'v'): 1,\n",
       " ('v', 'a'): 1}"
      ]
     },
     "execution_count": 19,
     "metadata": {},
     "output_type": "execute_result"
    }
   ],
   "source": [
    "bigram_dict"
   ]
  },
  {
   "cell_type": "code",
   "execution_count": null,
   "id": "a3a9fe5b-cb24-490a-8558-25f51497e2d6",
   "metadata": {},
   "outputs": [],
   "source": []
  }
 ],
 "metadata": {
  "kernelspec": {
   "display_name": "Python 3 (ipykernel)",
   "language": "python",
   "name": "python3"
  },
  "language_info": {
   "codemirror_mode": {
    "name": "ipython",
    "version": 3
   },
   "file_extension": ".py",
   "mimetype": "text/x-python",
   "name": "python",
   "nbconvert_exporter": "python",
   "pygments_lexer": "ipython3",
   "version": "3.12.1"
  }
 },
 "nbformat": 4,
 "nbformat_minor": 5
}
